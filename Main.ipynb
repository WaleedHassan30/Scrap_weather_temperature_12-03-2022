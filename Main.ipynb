{
 "cells": [
  {
   "cell_type": "code",
   "execution_count": 3,
   "metadata": {},
   "outputs": [],
   "source": [
    "import Functions"
   ]
  },
  {
   "cell_type": "code",
   "execution_count": 4,
   "metadata": {},
   "outputs": [
    {
     "name": "stdout",
     "output_type": "stream",
     "text": [
      "                      Scrap_weather_temperature_Script                          \n",
      "ــــــــــــــــــــــــــــــــــــــــــــــــــــــــــــــــــــــــــ\n",
      "{'city': 'Cairo', 'Temperature': 'max = 21°C | min = 8°C', 'humidity': '65%', 'Air_Pressure': '', 'wind_speed': '30 Km/h', 'Date': '19 March 2022'}\n",
      "{'city': 'Cairo', 'Temperature': 'max = 19°C | min = 8°C', 'humidity': '59%', 'Air_Pressure': '', 'wind_speed': '31 Km/h', 'Date': '20 March 2022'}\n",
      "{'city': 'Cairo', 'Temperature': 'max = 19°C | min = 7°C', 'humidity': '63%', 'Air_Pressure': '', 'wind_speed': '16 Km/h', 'Date': '21 March 2022'}\n",
      "{'city': 'Cairo', 'Temperature': 'max = 16°C | min = 8°C', 'humidity': '76%', 'Air_Pressure': '', 'wind_speed': '15 Km/h', 'Date': '22 March 2022'}\n",
      "{'city': 'Cairo', 'Temperature': 'max = 16°C | min = 8°C', 'humidity': '60%', 'Air_Pressure': '', 'wind_speed': '16 Km/h', 'Date': '23 March 2022'}\n"
     ]
    }
   ],
   "source": [
    "Functions.Main()"
   ]
  }
 ],
 "metadata": {
  "interpreter": {
   "hash": "c1c8520fcbb8f294e06bd2cde5b8fba48811aa721d16f143ed9e9935c6d84d3a"
  },
  "kernelspec": {
   "display_name": "Python 3.10.0 64-bit",
   "language": "python",
   "name": "python3"
  },
  "language_info": {
   "codemirror_mode": {
    "name": "ipython",
    "version": 3
   },
   "file_extension": ".py",
   "mimetype": "text/x-python",
   "name": "python",
   "nbconvert_exporter": "python",
   "pygments_lexer": "ipython3",
   "version": "3.10.0"
  },
  "orig_nbformat": 4
 },
 "nbformat": 4,
 "nbformat_minor": 2
}
